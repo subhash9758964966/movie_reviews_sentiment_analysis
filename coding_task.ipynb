{
 "cells": [
  {
   "cell_type": "code",
   "execution_count": 4,
   "id": "4151335c",
   "metadata": {},
   "outputs": [
    {
     "name": "stdout",
     "output_type": "stream",
     "text": [
      "Enter your number 20\n"
     ]
    }
   ],
   "source": [
    "n = int(input(\"Enter your number \"))"
   ]
  },
  {
   "cell_type": "code",
   "execution_count": 5,
   "id": "7b334e6c",
   "metadata": {},
   "outputs": [
    {
     "name": "stdout",
     "output_type": "stream",
     "text": [
      "row elements\n",
      "11\n",
      "12\n",
      "13\n",
      "14\n",
      "15\n",
      "row elements\n",
      "7\n",
      "8\n",
      "9\n",
      "10\n",
      "row elements\n",
      "4\n",
      "5\n",
      "6\n",
      "row elements\n",
      "2\n",
      "3\n",
      "row elements\n",
      "1\n"
     ]
    }
   ],
   "source": [
    "i = 1\n",
    "sum1= int(0)\n",
    "list1 = [1]\n",
    "while(True):\n",
    "    if(i==1):\n",
    "        sum1 = 1\n",
    "#         print(\"fisrt\", i, sum)\n",
    "        i+=1\n",
    "        list1.append(i)\n",
    "       \n",
    "    elif(sum1<n):\n",
    "        sum1 =sum1 + i\n",
    "        if(sum1>n):\n",
    "#             print(\"second\",i, sum)\n",
    "            i-=1\n",
    "            break\n",
    "        elif(sum1 == n):\n",
    "#             print(\"second\",i, sum)\n",
    "            break\n",
    "        else:\n",
    "#             print(\"second\",i, sum)\n",
    "            i+=1\n",
    "            if(sum1+i<=n):\n",
    "                list1.append(i)\n",
    "        \n",
    "    else:\n",
    "#         print(\"third\", i, sum)\n",
    "        break\n",
    "\n",
    "len_list = len(list1) #gives no. of rows or length of the triangle\n",
    "total =0\n",
    "for ele in range(0, len(list1)):\n",
    "    total = total + list1[ele]\n",
    "while(len_list):\n",
    "    print(\"row elements\")\n",
    "    end = total\n",
    "    start = total-len_list+1\n",
    "    for i in range(len_list):\n",
    "        print(start)\n",
    "        total-=1\n",
    "        start+=1\n",
    "    len_list-=1"
   ]
  }
 ],
 "metadata": {
  "kernelspec": {
   "display_name": "Python 3 (ipykernel)",
   "language": "python",
   "name": "python3"
  },
  "language_info": {
   "codemirror_mode": {
    "name": "ipython",
    "version": 3
   },
   "file_extension": ".py",
   "mimetype": "text/x-python",
   "name": "python",
   "nbconvert_exporter": "python",
   "pygments_lexer": "ipython3",
   "version": "3.8.12"
  }
 },
 "nbformat": 4,
 "nbformat_minor": 5
}
