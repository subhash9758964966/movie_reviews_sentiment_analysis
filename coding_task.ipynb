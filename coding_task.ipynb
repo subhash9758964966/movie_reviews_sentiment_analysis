{
 "cells": [
  {
   "cell_type": "code",
   "execution_count": 256,
   "id": "4151335c",
   "metadata": {},
   "outputs": [
    {
     "name": "stdout",
     "output_type": "stream",
     "text": [
      "<class 'int'>20\n"
     ]
    }
   ],
   "source": [
    "n = input(int)"
   ]
  },
  {
   "cell_type": "code",
   "execution_count": 259,
   "id": "f58d7cb6",
   "metadata": {},
   "outputs": [
    {
     "data": {
      "text/plain": [
       "'20'"
      ]
     },
     "execution_count": 259,
     "metadata": {},
     "output_type": "execute_result"
    }
   ],
   "source": [
    "n = int(n)"
   ]
  },
  {
   "cell_type": "code",
   "execution_count": 258,
   "id": "7b334e6c",
   "metadata": {},
   "outputs": [
    {
     "name": "stdout",
     "output_type": "stream",
     "text": [
      "<class 'int'>\n"
     ]
    },
    {
     "ename": "TypeError",
     "evalue": "'<' not supported between instances of 'int' and 'str'",
     "output_type": "error",
     "traceback": [
      "\u001b[1;31m---------------------------------------------------------------------------\u001b[0m",
      "\u001b[1;31mTypeError\u001b[0m                                 Traceback (most recent call last)",
      "\u001b[1;32m~\\AppData\\Local\\Temp/ipykernel_7332/4188924669.py\u001b[0m in \u001b[0;36m<module>\u001b[1;34m\u001b[0m\n\u001b[0;32m     10\u001b[0m         \u001b[0mlist1\u001b[0m\u001b[1;33m.\u001b[0m\u001b[0mappend\u001b[0m\u001b[1;33m(\u001b[0m\u001b[0mi\u001b[0m\u001b[1;33m)\u001b[0m\u001b[1;33m\u001b[0m\u001b[1;33m\u001b[0m\u001b[0m\n\u001b[0;32m     11\u001b[0m \u001b[1;33m\u001b[0m\u001b[0m\n\u001b[1;32m---> 12\u001b[1;33m     \u001b[1;32melif\u001b[0m\u001b[1;33m(\u001b[0m\u001b[0msum1\u001b[0m\u001b[1;33m<\u001b[0m\u001b[0mn\u001b[0m\u001b[1;33m)\u001b[0m\u001b[1;33m:\u001b[0m\u001b[1;33m\u001b[0m\u001b[1;33m\u001b[0m\u001b[0m\n\u001b[0m\u001b[0;32m     13\u001b[0m         \u001b[0msum1\u001b[0m \u001b[1;33m=\u001b[0m\u001b[0msum1\u001b[0m \u001b[1;33m+\u001b[0m \u001b[0mi\u001b[0m\u001b[1;33m\u001b[0m\u001b[1;33m\u001b[0m\u001b[0m\n\u001b[0;32m     14\u001b[0m         \u001b[1;32mif\u001b[0m\u001b[1;33m(\u001b[0m\u001b[0msum\u001b[0m\u001b[1;33m>\u001b[0m\u001b[0mn\u001b[0m\u001b[1;33m)\u001b[0m\u001b[1;33m:\u001b[0m\u001b[1;33m\u001b[0m\u001b[1;33m\u001b[0m\u001b[0m\n",
      "\u001b[1;31mTypeError\u001b[0m: '<' not supported between instances of 'int' and 'str'"
     ]
    }
   ],
   "source": [
    "i = 1\n",
    "sum1= 0\n",
    "print(type(sum1))\n",
    "list1 = [1]\n",
    "while(True):\n",
    "    if(i==1):\n",
    "        sum1 = 1\n",
    "#         print(\"fisrt\", i, sum)\n",
    "        i+=1\n",
    "        list1.append(i)\n",
    "       \n",
    "    elif(sum1<n):\n",
    "        sum1 =sum1 + i\n",
    "        if(sum>n):\n",
    "#             print(\"second\",i, sum)\n",
    "            i-=1\n",
    "            break\n",
    "        elif(sum1 == n):\n",
    "#             print(\"second\",i, sum)\n",
    "            break\n",
    "        else:\n",
    "#             print(\"second\",i, sum)\n",
    "            i+=1\n",
    "            if(sum1+i<=n):\n",
    "                list1.append(i)\n",
    "        \n",
    "    else:\n",
    "#         print(\"third\", i, sum)\n",
    "        break\n",
    "\n",
    "len_list = len(list1) #gives no. of rows or length of the triangle\n",
    "total =0\n",
    "for ele in range(0, len(list1)):\n",
    "    total = total + list1[ele]\n",
    "while(len_list):\n",
    "    print(\"row elements\")\n",
    "    end = total\n",
    "    start = total-len_list+1\n",
    "    for i in range(len_list):\n",
    "        print(start)\n",
    "        total-=1\n",
    "        start+=1\n",
    "    len_list-=1"
   ]
  },
  {
   "cell_type": "code",
   "execution_count": null,
   "id": "2b7e1ccb",
   "metadata": {},
   "outputs": [],
   "source": []
  },
  {
   "cell_type": "code",
   "execution_count": null,
   "id": "5db526e9",
   "metadata": {},
   "outputs": [],
   "source": []
  }
 ],
 "metadata": {
  "kernelspec": {
   "display_name": "Python 3 (ipykernel)",
   "language": "python",
   "name": "python3"
  },
  "language_info": {
   "codemirror_mode": {
    "name": "ipython",
    "version": 3
   },
   "file_extension": ".py",
   "mimetype": "text/x-python",
   "name": "python",
   "nbconvert_exporter": "python",
   "pygments_lexer": "ipython3",
   "version": "3.8.12"
  }
 },
 "nbformat": 4,
 "nbformat_minor": 5
}
